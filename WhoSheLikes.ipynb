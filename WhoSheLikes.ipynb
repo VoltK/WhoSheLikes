{
 "cells": [
  {
   "cell_type": "markdown",
   "metadata": {},
   "source": [
    "# WhoSheLikes?"
   ]
  },
  {
   "cell_type": "markdown",
   "metadata": {},
   "source": [
    "## Main purpose:\n",
    "\n",
    "**To find whom targeted user likes in followings**\n",
    "\n",
    "### Steps to do:\n",
    "\n",
    "- Specify user\n",
    "\n",
    "- Get all his followings\n",
    "\n",
    "- Sort them by needed gender using prepared wordlist with male/female names\n",
    "\n",
    "- Count likes by that user to everone in this group\n",
    "\n",
    "- Draw bar graph of TOP 10 liked followings\n"
   ]
  },
  {
   "cell_type": "markdown",
   "metadata": {},
   "source": [
    "### Login to your account"
   ]
  },
  {
   "cell_type": "code",
   "execution_count": 1,
   "metadata": {},
   "outputs": [
    {
     "name": "stdout",
     "output_type": "stream",
     "text": [
      "Fail to import moviepy. Need only for Video upload.\n",
      "[!] Trying to login: \n",
      "[?] Enter your username: your_username\n",
      "[?] Enter your password: ········\n",
      "Request return 429 error!\n",
      "{'message': 'Please wait a few minutes before you try again.', 'status': 'fail'}\n",
      "Request return 404 error!\n",
      "Login success!\n",
      "\n",
      "[+] Login success\n"
     ]
    }
   ],
   "source": [
    "from InstagramAPI import InstagramAPI\n",
    "import time, sys\n",
    "from getpass import getpass\n",
    "\n",
    "# Login to your account\n",
    "login_result = None\n",
    "while login_result != True:\n",
    "    print(\"[!] Trying to login: \")\n",
    "    username = input(\"[?] Enter your username: \")\n",
    "    password = getpass(\"[?] Enter your password: \")\n",
    "\n",
    "    insta = InstagramAPI(username, password)\n",
    "    login_result = insta.login()\n",
    "\n",
    "print(\"[+] Login success\")\n"
   ]
  },
  {
   "cell_type": "markdown",
   "metadata": {},
   "source": [
    "### Specify user to analyze"
   ]
  },
  {
   "cell_type": "code",
   "execution_count": 2,
   "metadata": {},
   "outputs": [
    {
     "name": "stdout",
     "output_type": "stream",
     "text": [
      "[?] Enter username to start analyzing followings: targeted_user\n",
      "[+] User was specified\n"
     ]
    }
   ],
   "source": [
    "target = input(\"[?] Enter username to start analyzing followings: \")\n",
    "target_info = insta.searchUsername(target)\n",
    "\n",
    "while target_info != True:\n",
    "    target = input(\"[!] Can't find this username. Try again: \") \n",
    "    target_info = insta.searchUsername(target)\n",
    "\n",
    "print(\"[+] User was specified\")\n",
    "\n",
    "target_pk = insta.LastJson['user']['pk']"
   ]
  },
  {
   "cell_type": "markdown",
   "metadata": {},
   "source": [
    "### Gather user's followings"
   ]
  },
  {
   "cell_type": "code",
   "execution_count": 3,
   "metadata": {
    "scrolled": true
   },
   "outputs": [
    {
     "name": "stdout",
     "output_type": "stream",
     "text": [
      "[+] List of all followings is ready. Start to sorting using list of names\n"
     ]
    }
   ],
   "source": [
    "# Get list of all needed Followings\n",
    "following   = []\n",
    "next_max_id = \"\"\n",
    "\n",
    "while True:\n",
    "        insta.getUserFollowings(target_pk, next_max_id)\n",
    "        temp = insta.LastJson\n",
    "        # generate list of all followings in dicts\n",
    "        following.extend([{\"name\":item['full_name'], \"pk\":item['pk']} for item in temp['users']])\n",
    "    \n",
    "        if temp[\"big_list\"] is False:\n",
    "            break\n",
    "        next_max_id = temp[\"next_max_id\"]\n",
    "        \n",
    "print(\"[+] List of all followings is ready. Start to sorting using list of names\")"
   ]
  },
  {
   "cell_type": "markdown",
   "metadata": {},
   "source": [
    "### Sort by specified namelist "
   ]
  },
  {
   "cell_type": "code",
   "execution_count": 4,
   "metadata": {
    "scrolled": true
   },
   "outputs": [
    {
     "name": "stdout",
     "output_type": "stream",
     "text": [
      "[!]Note we will scan a lot of users and if one has many followers and likes it will increase total scanning time\n",
      "[?] How many followers per user is allowed: 25000\n",
      "[+] All followings were sorted. Total to scan: 26\n"
     ]
    }
   ],
   "source": [
    "\n",
    "group_to_analyze = []\n",
    "print(\"[!] Note we will scan a lot of users and if one has many followers and likes it will increase total scanning time\")\n",
    "max_allowed_followers = int(input(\"[?] How many followers per user is allowed: \"))\n",
    "print(\"[!] Note namelist file needs to be placed in same directory with this script or use absolute path\" )\n",
    "name_list = input(\"[?] Enter namelist file: \")\n",
    "\n",
    "\n",
    "for user in following:\n",
    "    \n",
    "        full_name = [name.lower() for name in user['name'].split()]\n",
    "        \n",
    "        with open(\"male_names.txt\", 'r', encoding='utf-8-sig') as file:\n",
    "            for line in file.read().splitlines():\n",
    "                \n",
    "                # convert name from file to lowercase \n",
    "                # and check if either first name or last name equals\n",
    "                match = any([ name == line.lower() for name in full_name])\n",
    "\n",
    "                if match:\n",
    "                    try:\n",
    "                        insta.getUsernameInfo(user['pk'])\n",
    "                        follower_count = insta.LastJson['user']['follower_count']\n",
    "                        if follower_count < max_allowed_followers:\n",
    "                            group_to_analyze.append({\"name\":user[\"name\"], \"pk\": user[\"pk\"], 'likes': 0, 'media_ids': []})\n",
    "                            break\n",
    "                    except KeyError:\n",
    "                        break\n",
    "   \n",
    "if len(group_to_analyze) > 0:                \n",
    "    print(f\"[+] All followings were sorted. Total to scan: {len(group_to_analyze)}\")\n",
    "    #print(group_to_analyze)\n",
    "else:\n",
    "    print(\"[-] Failed to find anybody. Try to use another file with names\")\n",
    "    sys.exit(0)"
   ]
  },
  {
   "cell_type": "markdown",
   "metadata": {},
   "source": [
    "### Function to gather all media by each user from sorted followings list"
   ]
  },
  {
   "cell_type": "code",
   "execution_count": 5,
   "metadata": {},
   "outputs": [],
   "source": [
    "# same process to get media ids, need to paginate\n",
    "def get_all_media(api, user_info, target):\n",
    "    next_max_id = \"\"\n",
    "    u_pk = user_info['pk']\n",
    "    while True:\n",
    "            try:     \n",
    "                api.getUserFeed(usernameId=u_pk, maxid=next_max_id)\n",
    "\n",
    "                # add media id to user's list in dict.\n",
    "                user_info['media_ids'].extend([item['id'] for item in api.LastJson['items']])\n",
    "                \n",
    "                if api.LastJson['more_available'] is False:\n",
    "                    break\n",
    "                next_max_id = api.LastJson[\"next_max_id\"]\n",
    "                \n",
    "            except KeyError:\n",
    "                break\n",
    "            # Sometimes Instagram sends corrupted JSON for no reason\n",
    "            except ValueError:\n",
    "                print(\"JSONDecodeError; skip\", user_info['name'])\n",
    "                break\n"
   ]
  },
  {
   "cell_type": "markdown",
   "metadata": {},
   "source": [
    "### Function to count all likes for each user from that list by targeted user"
   ]
  },
  {
   "cell_type": "code",
   "execution_count": 6,
   "metadata": {},
   "outputs": [],
   "source": [
    "def count_likes_by_target(api, media_id, user, target):\n",
    "    #for id in user['media_ids']:\n",
    "    try:\n",
    "        api.getMediaLikers(media_id)\n",
    "        all_likers = api.LastJson['users']\n",
    "        for liker in all_likers:\n",
    "            if liker['username'] == target:\n",
    "                user['likes'] += 1\n",
    "                break\n",
    "    except KeyError:\n",
    "        return\n",
    "    except ValueError:\n",
    "        return"
   ]
  },
  {
   "cell_type": "code",
   "execution_count": 7,
   "metadata": {},
   "outputs": [],
   "source": [
    "def timer(start_time):\n",
    "    final = time.time() - start_time\n",
    "    hours = final // 3600\n",
    "    minutes = final % 3600 // 60\n",
    "    seconds = final % 60\n",
    "    return f\"\\n[+] Finished in {hours}:{minutes}:{seconds}\"    "
   ]
  },
  {
   "cell_type": "markdown",
   "metadata": {},
   "source": [
    "### Start gathering users' media"
   ]
  },
  {
   "cell_type": "code",
   "execution_count": 8,
   "metadata": {
    "scrolled": false
   },
   "outputs": [
    {
     "name": "stdout",
     "output_type": "stream",
     "text": [
      "[!] Start adding media to analyze. This is time consuming part. Prepare yourself to wait...\n",
      "[*] username0 all media gathered\n",
      "...",
      "\n",
      "[+] Finished in 0.0:2.0:17.066662549972534\n"
     ]
    }
   ],
   "source": [
    "start = time.time()\n",
    "print(\"[!] Start adding media to analyze. This is time consuming part. Prepare yourself to wait...\")\n",
    "\n",
    "for user in group_to_analyze:\n",
    "    get_all_media(insta, user, target)\n",
    "    name = user['name']\n",
    "    print(f\"[*] {name} all media gathered\")\n",
    "\n",
    "print(timer(start))"
   ]
  },
  {
   "cell_type": "markdown",
   "metadata": {},
   "source": [
    "### Start counting likes by targeted user"
   ]
  },
  {
   "cell_type": "code",
   "execution_count": 9,
   "metadata": {
    "scrolled": false
   },
   "outputs": [
    {
     "name": "stdout",
     "output_type": "stream",
     "text": [
      "[!] Start counting likes. This is time consuming part. Prepare yourself to wait...\n",
      "[*] username0 has 4\n",
      "...\n",
      "\n",
      "[+] Finished in 0.0:32.0:38.824299812316895\n"
     ]
    }
   ],
   "source": [
    "print(\"[!] Start counting likes. This is time consuming part. Prepare yourself to wait...\")\n",
    "start = time.time()\n",
    "for user in group_to_analyze:\n",
    "    for id in user['media_ids']:\n",
    "        count_likes_by_target(insta, id, user, target)\n",
    "    print(f\"[*] {user['name']} has {user['likes']} likes by {target}\")\n",
    "          \n",
    "print(timer(start))"
   ]
  },
  {
   "cell_type": "markdown",
   "metadata": {},
   "source": [
    "### Graphing part"
   ]
  },
  {
   "cell_type": "code",
   "execution_count": 46,
   "metadata": {},
   "outputs": [
    {
     "data": {
      "image/png": "[encoded data removed]",
      "text/plain": [
       "<Figure size 432x288 with 1 Axes>"
      ]
     },
     "metadata": {},
     "output_type": "display_data"
    }
   ],
   "source": [
    "from operator import itemgetter\n",
    "import matplotlib.pyplot as plt\n",
    "import numpy as np\n",
    "# sort list by number of likes in DESC order\n",
    "group_to_analyze.sort(key=itemgetter('likes'), reverse=True)\n",
    "\n",
    "# get coordinates for graph; top 10\n",
    "y = list(map(itemgetter('likes'), group_to_analyze[:10]))\n",
    "x = list(map(itemgetter('name'), group_to_analyze[:10]))\n",
    "# x1 just for github; \n",
    "x1 = ['username' + str(i) for i in range(10)]\n",
    "\n",
    "fig = plt.figure()\n",
    "\n",
    "# xkcd styles\n",
    "plt.xkcd()\n",
    "\n",
    "# label x-axis with top followings names; x1 for github; for normal use change to x!\n",
    "plt.xticks(np.arange(len(x)), x1, rotation='vertical')\n",
    "\n",
    "# min and max values on y-axis\n",
    "plt.ylim([min(y), max(y)+20])\n",
    "\n",
    "# make a bar graph\n",
    "plt.bar(np.arange(len(x)), y,)\n",
    "\n",
    "# uncomment line below for normal use\n",
    "# plt.title(f\"Total likes by {target} \\nto specified group\")\n",
    "# and delete this\n",
    "plt.title(f\"Total likes by TARGETED_USER \\nto specified group\")\n",
    "\n",
    "plt.xlabel('Top 10 Followings')\n",
    "plt.ylabel(f'Liked posts')\n",
    "\n",
    "# label each bar with exact Y value\n",
    "for x, value in enumerate(y):\n",
    "    plt.text(x - 0.33, value + 2.5, str(value), color='black', fontweight='bold')\n",
    "\n",
    "plt.show()\n"
   ]
  },
  {
   "cell_type": "code",
   "execution_count": null,
   "metadata": {},
   "outputs": [],
   "source": []
  }
 ],
 "metadata": {
  "kernelspec": {
   "display_name": "Python 3",
   "language": "python",
   "name": "python3"
  },
  "language_info": {
   "codemirror_mode": {
    "name": "ipython",
    "version": 3
   },
   "file_extension": ".py",
   "mimetype": "text/x-python",
   "name": "python",
   "nbconvert_exporter": "python",
   "pygments_lexer": "ipython3",
   "version": "3.6.4"
  }
 },
 "nbformat": 4,
 "nbformat_minor": 2
}
